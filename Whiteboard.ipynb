{
 "cells": [
  {
   "cell_type": "code",
   "execution_count": null,
   "id": "d5647012",
   "metadata": {},
   "outputs": [],
   "source": [
    "# Check to see if a string has the same amount of 'x's and 'o's. The method must return a boolean and be case insensitive.\n",
    "# The string can contain any char.\n",
    "\n",
    "# Examples input/output:\n",
    "\n",
    "# XO(\"ooxx\") => True\n",
    "# XO(\"xooxx\") => False\n",
    "# XO(\"ooxXm\") => True\n",
    "# XO(\"zpzpzpp\") => True // when no 'x' and 'o' is present should return true\n",
    "# XO(\"zzoo\") => False"
   ]
  },
  {
   "cell_type": "code",
   "execution_count": 1,
   "id": "7754afbb",
   "metadata": {},
   "outputs": [],
   "source": [
    "def same_x_o(string):\n",
    "    count_x = 0\n",
    "    count_o = 0\n",
    "    for letter in string:\n",
    "        if letter.lower() == 'x':\n",
    "            count_x += 1\n",
    "        elif letter.lower() == 'o':\n",
    "            count_o += 1\n",
    "    return count_o == count_x"
   ]
  },
  {
   "cell_type": "code",
   "execution_count": 2,
   "id": "1eef6085",
   "metadata": {},
   "outputs": [
    {
     "data": {
      "text/plain": [
       "True"
      ]
     },
     "execution_count": 2,
     "metadata": {},
     "output_type": "execute_result"
    }
   ],
   "source": [
    "same_x_o(\"ooxx\")"
   ]
  },
  {
   "cell_type": "code",
   "execution_count": 3,
   "id": "61577663",
   "metadata": {},
   "outputs": [
    {
     "data": {
      "text/plain": [
       "False"
      ]
     },
     "execution_count": 3,
     "metadata": {},
     "output_type": "execute_result"
    }
   ],
   "source": [
    "same_x_o(\"xooxx\")"
   ]
  },
  {
   "cell_type": "code",
   "execution_count": 4,
   "id": "84082cc6",
   "metadata": {},
   "outputs": [
    {
     "data": {
      "text/plain": [
       "True"
      ]
     },
     "execution_count": 4,
     "metadata": {},
     "output_type": "execute_result"
    }
   ],
   "source": [
    "same_x_o(\"ooxXm\")"
   ]
  },
  {
   "cell_type": "code",
   "execution_count": 5,
   "id": "f281df29",
   "metadata": {},
   "outputs": [
    {
     "data": {
      "text/plain": [
       "True"
      ]
     },
     "execution_count": 5,
     "metadata": {},
     "output_type": "execute_result"
    }
   ],
   "source": [
    "same_x_o(\"zpzpzpp\")"
   ]
  },
  {
   "cell_type": "code",
   "execution_count": 6,
   "id": "24c30b59",
   "metadata": {},
   "outputs": [
    {
     "data": {
      "text/plain": [
       "False"
      ]
     },
     "execution_count": 6,
     "metadata": {},
     "output_type": "execute_result"
    }
   ],
   "source": [
    "same_x_o(\"zzoo\")"
   ]
  },
  {
   "cell_type": "code",
   "execution_count": null,
   "id": "f658c061",
   "metadata": {},
   "outputs": [],
   "source": []
  }
 ],
 "metadata": {
  "kernelspec": {
   "display_name": "Python 3 (ipykernel)",
   "language": "python",
   "name": "python3"
  },
  "language_info": {
   "codemirror_mode": {
    "name": "ipython",
    "version": 3
   },
   "file_extension": ".py",
   "mimetype": "text/x-python",
   "name": "python",
   "nbconvert_exporter": "python",
   "pygments_lexer": "ipython3",
   "version": "3.9.13"
  }
 },
 "nbformat": 4,
 "nbformat_minor": 5
}
